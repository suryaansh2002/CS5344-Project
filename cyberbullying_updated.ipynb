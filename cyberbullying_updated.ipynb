{
 "cells": [
  {
   "cell_type": "markdown",
   "metadata": {},
   "source": [
    "# Multimodal Hate Speech Classification and Cyberbullying Detection\n",
    "\n",
    "This notebook implements a multimodal model combining image and text features for hate speech detection and cyberbullying classification."
   ]
  },
  {
   "cell_type": "code",
   "execution_count": null,
   "metadata": {},
   "outputs": [],
   "source": []
  },
  {
   "cell_type": "markdown",
   "metadata": {},
   "source": [
    "## Data Preprocessing\n"
   ]
  },
  {
   "cell_type": "markdown",
   "metadata": {},
   "source": [
    "### Load Annotations and Prepare Data"
   ]
  },
  {
   "cell_type": "code",
   "execution_count": null,
   "metadata": {
    "_cell_guid": "b1076dfc-b9ad-4769-8c92-a6c4dae69d19",
    "_uuid": "8f2839f25d086af736a60e9eeb907d3b93b6e0e5",
    "execution": {
     "iopub.execute_input": "2024-11-21T08:05:24.009688Z",
     "iopub.status.busy": "2024-11-21T08:05:24.008899Z",
     "iopub.status.idle": "2024-11-21T08:05:36.931305Z",
     "shell.execute_reply": "2024-11-21T08:05:36.93038Z",
     "shell.execute_reply.started": "2024-11-21T08:05:24.009637Z"
    },
    "trusted": true
   },
   "outputs": [],
   "source": [
    "import json\n",
    "import pandas as pd\n",
    "import os\n",
    "from PIL import Image\n",
    "import matplotlib.pyplot as plt\n",
    "import re\n",
    "import numpy as np\n",
    "import tensorflow as tf\n",
    "from tensorflow.keras.layers import Dense, Flatten, Input, Embedding, LSTM, Dropout, GlobalAveragePooling2D, Concatenate\n",
    "from tensorflow.keras.applications import ResNet50\n",
    "from tensorflow.keras.models import Model\n",
    "from tensorflow.keras.preprocessing.text import Tokenizer\n",
    "from tensorflow.keras.preprocessing.sequence import pad_sequences\n",
    "from tensorflow.keras.preprocessing.image import load_img, img_to_array\n",
    "from tensorflow.keras.optimizers import Adam\n",
    "from tensorflow.keras.preprocessing.image import ImageDataGenerator\n",
    "from sklearn.model_selection import train_test_split\n"
   ]
  },
  {
   "cell_type": "code",
   "execution_count": null,
   "metadata": {},
   "outputs": [],
   "source": []
  },
  {
   "cell_type": "code",
   "execution_count": null,
   "metadata": {
    "execution": {
     "iopub.execute_input": "2024-11-21T08:05:39.391255Z",
     "iopub.status.busy": "2024-11-21T08:05:39.390689Z",
     "iopub.status.idle": "2024-11-21T08:05:40.694199Z",
     "shell.execute_reply": "2024-11-21T08:05:40.693513Z",
     "shell.execute_reply.started": "2024-11-21T08:05:39.391221Z"
    },
    "trusted": true
   },
   "outputs": [],
   "source": [
    "# Load the annotations\n",
    "with open('./multimodal-hate-speech/MMHS150K_GT.json', 'r') as f:\n",
    "    annotations = json.load(f)\n"
   ]
  },
  {
   "cell_type": "code",
   "execution_count": null,
   "metadata": {
    "execution": {
     "iopub.execute_input": "2024-11-21T08:05:40.695854Z",
     "iopub.status.busy": "2024-11-21T08:05:40.695587Z",
     "iopub.status.idle": "2024-11-21T08:05:41.206643Z",
     "shell.execute_reply": "2024-11-21T08:05:41.205392Z",
     "shell.execute_reply.started": "2024-11-21T08:05:40.695827Z"
    },
    "trusted": true
   },
   "outputs": [],
   "source": [
    "# Convert the JSON dict to a DataFrame\n",
    "data = []\n",
    "for tweet_id, info in annotations.items():\n",
    "    data.append({\n",
    "        'tweet_id': tweet_id,\n",
    "        'tweet_text': info['tweet_text'],\n",
    "        'labels': info['labels'],\n",
    "        'labels_str': info['labels_str']\n",
    "    })\n",
    "\n",
    "df = pd.DataFrame(data)"
   ]
  },
  {
   "cell_type": "code",
   "execution_count": null,
   "metadata": {},
   "outputs": [],
   "source": [
    "df.head()"
   ]
  },
  {
   "cell_type": "code",
   "execution_count": null,
   "metadata": {},
   "outputs": [],
   "source": []
  },
  {
   "cell_type": "code",
   "execution_count": null,
   "metadata": {},
   "outputs": [],
   "source": []
  },
  {
   "cell_type": "markdown",
   "metadata": {},
   "source": [
    "# Add Image Path and Create Majority Label"
   ]
  },
  {
   "cell_type": "code",
   "execution_count": null,
   "metadata": {},
   "outputs": [],
   "source": []
  },
  {
   "cell_type": "code",
   "execution_count": null,
   "metadata": {
    "execution": {
     "iopub.execute_input": "2024-11-21T08:05:41.208023Z",
     "iopub.status.busy": "2024-11-21T08:05:41.207721Z",
     "iopub.status.idle": "2024-11-21T08:05:41.211936Z",
     "shell.execute_reply": "2024-11-21T08:05:41.211031Z",
     "shell.execute_reply.started": "2024-11-21T08:05:41.207994Z"
    },
    "trusted": true
   },
   "outputs": [],
   "source": [
    "\n",
    "# Path to the image folder\n",
    "image_folder = './multimodal-hate-speech/img_resized'"
   ]
  },
  {
   "cell_type": "code",
   "execution_count": null,
   "metadata": {
    "execution": {
     "iopub.execute_input": "2024-11-21T08:05:41.213784Z",
     "iopub.status.busy": "2024-11-21T08:05:41.213523Z",
     "iopub.status.idle": "2024-11-21T08:05:41.390719Z",
     "shell.execute_reply": "2024-11-21T08:05:41.38999Z",
     "shell.execute_reply.started": "2024-11-21T08:05:41.213758Z"
    },
    "trusted": true
   },
   "outputs": [],
   "source": [
    "# Add image path column\n",
    "df['image_path'] = df['tweet_id'].apply(lambda x: os.path.join(image_folder, f\"{x}.jpg\"))\n"
   ]
  },
  {
   "cell_type": "code",
   "execution_count": null,
   "metadata": {
    "execution": {
     "iopub.execute_input": "2024-11-21T08:05:41.392012Z",
     "iopub.status.busy": "2024-11-21T08:05:41.391731Z",
     "iopub.status.idle": "2024-11-21T08:05:41.396483Z",
     "shell.execute_reply": "2024-11-21T08:05:41.395507Z",
     "shell.execute_reply.started": "2024-11-21T08:05:41.391985Z"
    },
    "trusted": true
   },
   "outputs": [],
   "source": [
    "# Define majority vote function for labels\n",
    "from collections import Counter\n",
    "\n",
    "def majority_vote(labels):\n",
    "    label_count = Counter(labels)\n",
    "    return label_count.most_common(1)[0][0]"
   ]
  },
  {
   "cell_type": "code",
   "execution_count": null,
   "metadata": {
    "execution": {
     "iopub.execute_input": "2024-11-21T08:05:41.397617Z",
     "iopub.status.busy": "2024-11-21T08:05:41.397384Z",
     "iopub.status.idle": "2024-11-21T08:05:41.813827Z",
     "shell.execute_reply": "2024-11-21T08:05:41.8129Z",
     "shell.execute_reply.started": "2024-11-21T08:05:41.397594Z"
    },
    "trusted": true
   },
   "outputs": [],
   "source": [
    "# Apply majority vote to create a single label column\n",
    "df['majority_label'] = df['labels'].apply(majority_vote)\n",
    "\n",
    "label_mapping = {\n",
    "    0: \"NotHate\",\n",
    "    1: \"Racist\",\n",
    "    2: \"Sexist\",\n",
    "    3: \"Homophobe\",\n",
    "    4: \"Religion\",\n",
    "    5: \"OtherHate\"\n",
    "}"
   ]
  },
  {
   "cell_type": "code",
   "execution_count": null,
   "metadata": {},
   "outputs": [],
   "source": [
    "df.head()"
   ]
  },
  {
   "cell_type": "code",
   "execution_count": null,
   "metadata": {},
   "outputs": [],
   "source": []
  },
  {
   "cell_type": "code",
   "execution_count": null,
   "metadata": {
    "execution": {
     "iopub.execute_input": "2024-11-21T08:05:41.815664Z",
     "iopub.status.busy": "2024-11-21T08:05:41.814991Z",
     "iopub.status.idle": "2024-11-21T08:05:41.827376Z",
     "shell.execute_reply": "2024-11-21T08:05:41.826644Z",
     "shell.execute_reply.started": "2024-11-21T08:05:41.815624Z"
    },
    "trusted": true
   },
   "outputs": [],
   "source": [
    "# Create a new column 'majority_label_str' with the string representation of the majority label\n",
    "df['majority_label_str'] = df['majority_label'].map(label_mapping)\n"
   ]
  },
  {
   "cell_type": "code",
   "execution_count": null,
   "metadata": {
    "execution": {
     "iopub.execute_input": "2024-11-21T08:05:41.828985Z",
     "iopub.status.busy": "2024-11-21T08:05:41.828325Z",
     "iopub.status.idle": "2024-11-21T08:05:41.845571Z",
     "shell.execute_reply": "2024-11-21T08:05:41.844798Z",
     "shell.execute_reply.started": "2024-11-21T08:05:41.828958Z"
    },
    "trusted": true
   },
   "outputs": [],
   "source": [
    "df.head()"
   ]
  },
  {
   "cell_type": "code",
   "execution_count": null,
   "metadata": {},
   "outputs": [],
   "source": []
  },
  {
   "cell_type": "markdown",
   "metadata": {},
   "source": [
    "# Text Preprocessing"
   ]
  },
  {
   "cell_type": "code",
   "execution_count": null,
   "metadata": {},
   "outputs": [],
   "source": []
  },
  {
   "cell_type": "code",
   "execution_count": null,
   "metadata": {
    "execution": {
     "iopub.execute_input": "2024-11-21T08:05:41.847558Z",
     "iopub.status.busy": "2024-11-21T08:05:41.847275Z",
     "iopub.status.idle": "2024-11-21T08:05:41.852162Z",
     "shell.execute_reply": "2024-11-21T08:05:41.851391Z",
     "shell.execute_reply.started": "2024-11-21T08:05:41.847532Z"
    },
    "trusted": true
   },
   "outputs": [],
   "source": [
    "# Preprocess text data\n",
    "def preprocess_text(text):\n",
    "    text = text.lower()\n",
    "    text = re.sub(r'http\\S+|www\\S+|https\\S+', '', text, flags=re.MULTILINE)\n",
    "    text = re.sub(r'\\@\\w+|\\#', '', text)\n",
    "    text = re.sub(r'\\d+', '', text)\n",
    "    text = re.sub(r'[^\\w\\s]', '', text)\n",
    "    return text"
   ]
  },
  {
   "cell_type": "code",
   "execution_count": null,
   "metadata": {
    "execution": {
     "iopub.execute_input": "2024-11-21T08:05:41.853237Z",
     "iopub.status.busy": "2024-11-21T08:05:41.853022Z",
     "iopub.status.idle": "2024-11-21T08:05:43.069737Z",
     "shell.execute_reply": "2024-11-21T08:05:43.06903Z",
     "shell.execute_reply.started": "2024-11-21T08:05:41.853214Z"
    },
    "trusted": true
   },
   "outputs": [],
   "source": [
    "# Apply text preprocessing\n",
    "df['cleaned_text'] = df['tweet_text'].apply(preprocess_text)\n"
   ]
  },
  {
   "cell_type": "markdown",
   "metadata": {},
   "source": [
    "# Train-Test Splitting and Sampling"
   ]
  },
  {
   "cell_type": "code",
   "execution_count": null,
   "metadata": {
    "execution": {
     "iopub.execute_input": "2024-11-21T08:05:43.071491Z",
     "iopub.status.busy": "2024-11-21T08:05:43.071219Z",
     "iopub.status.idle": "2024-11-21T08:05:43.085022Z",
     "shell.execute_reply": "2024-11-21T08:05:43.084167Z",
     "shell.execute_reply.started": "2024-11-21T08:05:43.071466Z"
    },
    "trusted": true
   },
   "outputs": [],
   "source": [
    "# Check the group sizes\n",
    "df['majority_label'].value_counts()"
   ]
  },
  {
   "cell_type": "code",
   "execution_count": null,
   "metadata": {
    "execution": {
     "iopub.execute_input": "2024-11-21T08:05:43.086222Z",
     "iopub.status.busy": "2024-11-21T08:05:43.086001Z",
     "iopub.status.idle": "2024-11-21T08:05:43.092274Z",
     "shell.execute_reply": "2024-11-21T08:05:43.091516Z",
     "shell.execute_reply.started": "2024-11-21T08:05:43.0862Z"
    },
    "trusted": true
   },
   "outputs": [],
   "source": [
    "# Get the minimum group size\n",
    "min_group_size = df['majority_label'].value_counts().min()\n",
    "min_group_size"
   ]
  },
  {
   "cell_type": "code",
   "execution_count": null,
   "metadata": {},
   "outputs": [],
   "source": [
    "sampled_df = df.sample(n=500000, random_state=42)\n",
    "\n",
    "sampled_df['majority_label'].value_counts()"
   ]
  },
  {
   "cell_type": "code",
   "execution_count": null,
   "metadata": {},
   "outputs": [],
   "source": [
    "train_data, temp_data = train_test_split(sampled_df, test_size=0.4, random_state=42)\n",
    "\n",
    "val_data, test_data = train_test_split(temp_data, test_size=0.5, random_state=42)\n"
   ]
  },
  {
   "cell_type": "code",
   "execution_count": null,
   "metadata": {
    "execution": {
     "iopub.execute_input": "2024-11-21T08:05:44.723521Z",
     "iopub.status.busy": "2024-11-21T08:05:44.723171Z",
     "iopub.status.idle": "2024-11-21T08:05:44.728355Z",
     "shell.execute_reply": "2024-11-21T08:05:44.727502Z",
     "shell.execute_reply.started": "2024-11-21T08:05:44.723489Z"
    },
    "trusted": true
   },
   "outputs": [],
   "source": [
    "# Print the sizes of train and test sets\n",
    "print(\"Training data size:\", train_data.shape)\n",
    "print(\"Validation data size:\", val_data.shape)\n",
    "print(\"Testing data size:\", test_data.shape)"
   ]
  },
  {
   "cell_type": "code",
   "execution_count": null,
   "metadata": {},
   "outputs": [],
   "source": []
  },
  {
   "cell_type": "code",
   "execution_count": null,
   "metadata": {},
   "outputs": [],
   "source": [
    "train_data['majority_label'].value_counts()"
   ]
  },
  {
   "cell_type": "code",
   "execution_count": null,
   "metadata": {
    "execution": {
     "iopub.execute_input": "2024-11-21T08:05:46.237648Z",
     "iopub.status.busy": "2024-11-21T08:05:46.236896Z",
     "iopub.status.idle": "2024-11-21T08:05:46.448375Z",
     "shell.execute_reply": "2024-11-21T08:05:46.447485Z",
     "shell.execute_reply.started": "2024-11-21T08:05:46.237613Z"
    },
    "trusted": true
   },
   "outputs": [],
   "source": [
    "# Tokenize text\n",
    "tokenizer = Tokenizer(num_words=20000, oov_token=\"<OOV>\")\n",
    "tokenizer.fit_on_texts(train_data['cleaned_text'])\n",
    "X_train_text = pad_sequences(tokenizer.texts_to_sequences(train_data['cleaned_text']), maxlen=100)\n",
    "X_test_text = pad_sequences(tokenizer.texts_to_sequences(test_data['cleaned_text']), maxlen=100)"
   ]
  },
  {
   "cell_type": "code",
   "execution_count": null,
   "metadata": {
    "execution": {
     "iopub.execute_input": "2024-11-21T08:05:47.65783Z",
     "iopub.status.busy": "2024-11-21T08:05:47.656931Z",
     "iopub.status.idle": "2024-11-21T08:05:47.662629Z",
     "shell.execute_reply": "2024-11-21T08:05:47.661757Z",
     "shell.execute_reply.started": "2024-11-21T08:05:47.657779Z"
    },
    "trusted": true
   },
   "outputs": [],
   "source": [
    "# Load and preprocess images\n",
    "def load_and_preprocess_image(img_path, target_size=(224, 224)):\n",
    "    try:\n",
    "        if not os.path.exists(img_path):\n",
    "            return np.zeros((target_size[0], target_size[1], 3))\n",
    "        img = load_img(img_path, target_size=target_size)\n",
    "        img = img_to_array(img) / 255.0\n",
    "        return img\n",
    "    except Exception as e:\n",
    "        return np.zeros((target_size[0], target_size[1], 3))"
   ]
  },
  {
   "cell_type": "code",
   "execution_count": null,
   "metadata": {
    "execution": {
     "iopub.execute_input": "2024-11-21T08:05:49.025965Z",
     "iopub.status.busy": "2024-11-21T08:05:49.025195Z",
     "iopub.status.idle": "2024-11-21T08:07:03.227875Z",
     "shell.execute_reply": "2024-11-21T08:07:03.227124Z",
     "shell.execute_reply.started": "2024-11-21T08:05:49.025934Z"
    },
    "trusted": true
   },
   "outputs": [],
   "source": [
    "X_train_image = np.array([load_and_preprocess_image(path) for path in train_data['image_path']])\n"
   ]
  },
  {
   "cell_type": "code",
   "execution_count": null,
   "metadata": {},
   "outputs": [],
   "source": [
    "X_test_image = np.array([load_and_preprocess_image(path) for path in test_data['image_path']])"
   ]
  },
  {
   "cell_type": "code",
   "execution_count": null,
   "metadata": {
    "execution": {
     "iopub.execute_input": "2024-11-21T08:07:03.229567Z",
     "iopub.status.busy": "2024-11-21T08:07:03.229321Z",
     "iopub.status.idle": "2024-11-21T08:07:03.235252Z",
     "shell.execute_reply": "2024-11-21T08:07:03.234399Z",
     "shell.execute_reply.started": "2024-11-21T08:07:03.229544Z"
    },
    "trusted": true
   },
   "outputs": [],
   "source": [
    "X_train_image.shape"
   ]
  },
  {
   "cell_type": "code",
   "execution_count": null,
   "metadata": {
    "execution": {
     "iopub.execute_input": "2024-11-21T08:07:03.23668Z",
     "iopub.status.busy": "2024-11-21T08:07:03.236327Z",
     "iopub.status.idle": "2024-11-21T08:07:03.24757Z",
     "shell.execute_reply": "2024-11-21T08:07:03.246868Z",
     "shell.execute_reply.started": "2024-11-21T08:07:03.236642Z"
    },
    "trusted": true
   },
   "outputs": [],
   "source": [
    "# Labels\n",
    "y_train = np.array(train_data['majority_label'])\n",
    "y_test = np.array(test_data['majority_label'])"
   ]
  },
  {
   "cell_type": "markdown",
   "metadata": {},
   "source": [
    "# Model Building: Multimodal Model"
   ]
  },
  {
   "cell_type": "markdown",
   "metadata": {},
   "source": [
    "## Image Model"
   ]
  },
  {
   "cell_type": "code",
   "execution_count": null,
   "metadata": {
    "execution": {
     "iopub.execute_input": "2024-11-21T08:07:03.249548Z",
     "iopub.status.busy": "2024-11-21T08:07:03.249286Z",
     "iopub.status.idle": "2024-11-21T08:07:05.721737Z",
     "shell.execute_reply": "2024-11-21T08:07:05.720804Z",
     "shell.execute_reply.started": "2024-11-21T08:07:03.249524Z"
    },
    "trusted": true
   },
   "outputs": [],
   "source": [
    "# Define image model\n",
    "base_model = ResNet50(weights='imagenet', include_top=False, input_shape=(224, 224, 3))\n",
    "for layer in base_model.layers:\n",
    "    layer.trainable = False\n",
    "\n",
    "image_input = Input(shape=(224, 224, 3))\n",
    "x_image = base_model(image_input, training=False)\n",
    "x_image = GlobalAveragePooling2D()(x_image)\n",
    "x_image = Dense(256, activation='relu')(x_image)\n",
    "x_image = Dropout(0.5)(x_image)"
   ]
  },
  {
   "cell_type": "markdown",
   "metadata": {},
   "source": [
    "## Text Model"
   ]
  },
  {
   "cell_type": "code",
   "execution_count": null,
   "metadata": {
    "execution": {
     "iopub.execute_input": "2024-11-21T08:07:05.723394Z",
     "iopub.status.busy": "2024-11-21T08:07:05.72302Z",
     "iopub.status.idle": "2024-11-21T08:07:06.220376Z",
     "shell.execute_reply": "2024-11-21T08:07:06.219647Z",
     "shell.execute_reply.started": "2024-11-21T08:07:05.723332Z"
    },
    "trusted": true
   },
   "outputs": [],
   "source": [
    "# Define text model\n",
    "text_input = Input(shape=(100,))\n",
    "x_text = Embedding(input_dim=20000, output_dim=128, input_length=100)(text_input)\n",
    "x_text = LSTM(128, return_sequences=False)(x_text)\n",
    "x_text = Dense(128, activation='relu')(x_text)\n",
    "x_text = Dropout(0.5)(x_text)"
   ]
  },
  {
   "cell_type": "markdown",
   "metadata": {},
   "source": [
    "## Combined Multimodal Model"
   ]
  },
  {
   "cell_type": "code",
   "execution_count": null,
   "metadata": {
    "execution": {
     "iopub.execute_input": "2024-11-21T08:07:06.221577Z",
     "iopub.status.busy": "2024-11-21T08:07:06.221314Z",
     "iopub.status.idle": "2024-11-21T08:07:06.244588Z",
     "shell.execute_reply": "2024-11-21T08:07:06.243666Z",
     "shell.execute_reply.started": "2024-11-21T08:07:06.221551Z"
    },
    "trusted": true
   },
   "outputs": [],
   "source": [
    "# Combine image and text features\n",
    "combined = Concatenate()([x_image, x_text])\n",
    "x_combined = Dense(128, activation='relu')(combined)\n",
    "x_combined = Dropout(0.5)(x_combined)\n",
    "output = Dense(len(label_mapping), activation='softmax')(x_combined)"
   ]
  },
  {
   "cell_type": "code",
   "execution_count": null,
   "metadata": {
    "execution": {
     "iopub.execute_input": "2024-11-21T08:07:06.246144Z",
     "iopub.status.busy": "2024-11-21T08:07:06.24576Z",
     "iopub.status.idle": "2024-11-21T08:07:06.26394Z",
     "shell.execute_reply": "2024-11-21T08:07:06.263048Z",
     "shell.execute_reply.started": "2024-11-21T08:07:06.246102Z"
    },
    "trusted": true
   },
   "outputs": [],
   "source": [
    "# Build model\n",
    "multimodal_model = Model(inputs=[image_input, text_input], outputs=output)\n",
    "multimodal_model.compile(optimizer=Adam(learning_rate=1e-3), loss='sparse_categorical_crossentropy', metrics=['accuracy'])\n"
   ]
  },
  {
   "cell_type": "code",
   "execution_count": null,
   "metadata": {
    "execution": {
     "iopub.execute_input": "2024-11-21T08:07:06.265284Z",
     "iopub.status.busy": "2024-11-21T08:07:06.265017Z",
     "iopub.status.idle": "2024-11-21T08:07:06.298882Z",
     "shell.execute_reply": "2024-11-21T08:07:06.298014Z",
     "shell.execute_reply.started": "2024-11-21T08:07:06.265259Z"
    },
    "trusted": true
   },
   "outputs": [],
   "source": [
    "# Print Model Summary\n",
    "multimodal_model.summary()"
   ]
  },
  {
   "cell_type": "markdown",
   "metadata": {},
   "source": [
    "# Training the Model"
   ]
  },
  {
   "cell_type": "code",
   "execution_count": null,
   "metadata": {
    "execution": {
     "iopub.execute_input": "2024-11-21T08:07:06.300642Z",
     "iopub.status.busy": "2024-11-21T08:07:06.300016Z",
     "iopub.status.idle": "2024-11-21T08:13:56.054239Z",
     "shell.execute_reply": "2024-11-21T08:13:56.053287Z",
     "shell.execute_reply.started": "2024-11-21T08:07:06.300601Z"
    },
    "trusted": true
   },
   "outputs": [],
   "source": [
    "# Train the model\n",
    "history = multimodal_model.fit(\n",
    "    [X_train_image, X_train_text], y_train,\n",
    "    validation_data=([X_test_image, X_test_text], y_test),\n",
    "    epochs=10,\n",
    "    batch_size=128,\n",
    "    verbose=1\n",
    ")"
   ]
  },
  {
   "cell_type": "code",
   "execution_count": null,
   "metadata": {
    "execution": {
     "iopub.execute_input": "2024-11-21T08:22:43.894842Z",
     "iopub.status.busy": "2024-11-21T08:22:43.894118Z",
     "iopub.status.idle": "2024-11-21T08:22:44.384909Z",
     "shell.execute_reply": "2024-11-21T08:22:44.384121Z",
     "shell.execute_reply.started": "2024-11-21T08:22:43.894804Z"
    },
    "trusted": true
   },
   "outputs": [],
   "source": [
    "# Save the entire binary model\n",
    "multimodal_model.save('multimodel_model_updated.h5') "
   ]
  },
  {
   "cell_type": "code",
   "execution_count": null,
   "metadata": {
    "execution": {
     "iopub.execute_input": "2024-11-21T08:23:23.588925Z",
     "iopub.status.busy": "2024-11-21T08:23:23.58821Z",
     "iopub.status.idle": "2024-11-21T08:23:29.816907Z",
     "shell.execute_reply": "2024-11-21T08:23:29.81612Z",
     "shell.execute_reply.started": "2024-11-21T08:23:23.588892Z"
    },
    "trusted": true
   },
   "outputs": [],
   "source": [
    "# Evaluate the model\n",
    "loss, accuracy = multimodal_model.evaluate([X_test_image, X_test_text], y_test, verbose=1)\n",
    "print(f\"Test Accuracy: {accuracy * 100:.2f}%\")"
   ]
  }
 ],
 "metadata": {
  "kaggle": {
   "accelerator": "gpu",
   "dataSources": [
    {
     "datasetId": 966538,
     "sourceId": 1634802,
     "sourceType": "datasetVersion"
    }
   ],
   "dockerImageVersionId": 30787,
   "isGpuEnabled": true,
   "isInternetEnabled": true,
   "language": "python",
   "sourceType": "notebook"
  },
  "kernelspec": {
   "display_name": "env",
   "language": "python",
   "name": "python3"
  },
  "language_info": {
   "codemirror_mode": {
    "name": "ipython",
    "version": 3
   },
   "file_extension": ".py",
   "mimetype": "text/x-python",
   "name": "python",
   "nbconvert_exporter": "python",
   "pygments_lexer": "ipython3",
   "version": "3.11.9"
  }
 },
 "nbformat": 4,
 "nbformat_minor": 4
}
